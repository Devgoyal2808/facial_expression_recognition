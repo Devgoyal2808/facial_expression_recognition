{
  "nbformat": 4,
  "nbformat_minor": 0,
  "metadata": {
    "colab": {
      "name": "facial_expression_recognition.ipynb",
      "provenance": [],
      "collapsed_sections": [],
      "authorship_tag": "ABX9TyPbQaUEi6ukAqqXhgOqr46B",
      "include_colab_link": true
    },
    "kernelspec": {
      "name": "python3",
      "display_name": "Python 3"
    },
    "language_info": {
      "name": "python"
    }
  },
  "cells": [
    {
      "cell_type": "markdown",
      "metadata": {
        "id": "view-in-github",
        "colab_type": "text"
      },
      "source": [
        "<a href=\"https://colab.research.google.com/github/Devgoyal2808/facial_expression_recognition/blob/master/facial_expression_recognition.ipynb\" target=\"_parent\"><img src=\"https://colab.research.google.com/assets/colab-badge.svg\" alt=\"Open In Colab\"/></a>"
      ]
    },
    {
      "cell_type": "code",
      "metadata": {
        "colab": {
          "base_uri": "https://localhost:8080/"
        },
        "id": "Wqrwjgqmxugo",
        "outputId": "277206dc-6652-42aa-c6b7-847d42ce3a4e"
      },
      "source": [
        "!git clone https://github.com/Devgoyal2808/facial_expressions"
      ],
      "execution_count": 2,
      "outputs": [
        {
          "output_type": "stream",
          "text": [
            "Cloning into 'facial_expressions'...\n",
            "remote: Enumerating objects: 14214, done.\u001b[K\n",
            "remote: Total 14214 (delta 0), reused 0 (delta 0), pack-reused 14214\u001b[K\n",
            "Receiving objects: 100% (14214/14214), 239.65 MiB | 35.08 MiB/s, done.\n",
            "Resolving deltas: 100% (223/223), done.\n",
            "Checking out files: 100% (13996/13996), done.\n"
          ],
          "name": "stdout"
        }
      ]
    },
    {
      "cell_type": "code",
      "metadata": {
        "id": "443QlvXrxzqP"
      },
      "source": [
        "import csv\n",
        "data={}\n",
        "with open('/content/facial_expressions/data/legend.csv') as f:\n",
        "  reader=csv.reader(f)\n",
        "  next(reader)              # to avoid col headers..\n",
        "  for row in reader:\n",
        "    key=row[2].lower()\n",
        "    if key in data:\n",
        "      data[key].append(row[1])\n",
        "    else:\n",
        "      data[key]=[row[1]]"
      ],
      "execution_count": 5,
      "outputs": []
    },
    {
      "cell_type": "code",
      "metadata": {
        "colab": {
          "base_uri": "https://localhost:8080/"
        },
        "id": "TW-7hCiCyQ_N",
        "outputId": "aacc78c0-0ba3-4dd7-e5d2-d15d60d95212"
      },
      "source": [
        "emotion_list=list(data.keys())\n",
        "emotion_list"
      ],
      "execution_count": 6,
      "outputs": [
        {
          "output_type": "execute_result",
          "data": {
            "text/plain": [
              "['anger',\n",
              " 'surprise',\n",
              " 'disgust',\n",
              " 'fear',\n",
              " 'neutral',\n",
              " 'happiness',\n",
              " 'sadness',\n",
              " 'contempt']"
            ]
          },
          "metadata": {
            "tags": []
          },
          "execution_count": 6
        }
      ]
    },
    {
      "cell_type": "code",
      "metadata": {
        "id": "kheei0-7zi4h"
      },
      "source": [
        "import os\n",
        "\n",
        "os.mkdir('master_data')\n",
        "os.mkdir('master_data/training')\n",
        "os.mkdir('master_data/testing')\n"
      ],
      "execution_count": 11,
      "outputs": []
    },
    {
      "cell_type": "code",
      "metadata": {
        "id": "ONPzNNL_00KS"
      },
      "source": [
        "for emotion in emotion_list:\n",
        "  os.mkdir(os.path.join('master_data/training/',emotion))\n",
        "  os.mkdir(os.path.join('master_data/testing/',emotion))"
      ],
      "execution_count": 12,
      "outputs": []
    },
    {
      "cell_type": "code",
      "metadata": {
        "id": "3KNklxuG1RFi"
      },
      "source": [
        "from shutil import copyfile\n",
        "split_size=0.8\n",
        "\n",
        "for emotion,images in data.items():\n",
        "  train_size=int(split_size*len(images))\n",
        "  train_images=images[:train_size]\n",
        "  test_images=images[train_size:]\n",
        "  for image in train_images:\n",
        "    source=os.path.join('/content/facial_expressions/images',image)\n",
        "    dest=os.path.join('/content/master_data/training',emotion,image)\n",
        "    copyfile(source,dest)\n",
        "  for image in test_images:\n",
        "    source=os.path.join('/content/facial_expressions/images',image)\n",
        "    dest=os.path.join('/content/master_data/testing',emotion,image)\n",
        "    copyfile(source,dest)"
      ],
      "execution_count": 14,
      "outputs": []
    },
    {
      "cell_type": "code",
      "metadata": {
        "id": "skePKoP64CxL"
      },
      "source": [
        "import tensorflow as tf\n",
        "from tensorflow.keras.preprocessing.image import ImageDataGenerator\n",
        "from tensorflow.keras.optimizers import Adam\n",
        "from tensorflow.keras.callbacks import EarlyStopping\n",
        "from tensorflow.keras.layers import Conv2D,MaxPooling2D,Dense,Flatten"
      ],
      "execution_count": 16,
      "outputs": []
    },
    {
      "cell_type": "code",
      "metadata": {
        "colab": {
          "base_uri": "https://localhost:8080/"
        },
        "id": "swJWTcA17z3O",
        "outputId": "5a42c4bb-dafc-4505-c040-8aa4742e1c25"
      },
      "source": [
        "model=tf.keras.models.Sequential([\n",
        "                                  Conv2D(16,[3,3],activation='relu',input_shape=(100,100,3)),\n",
        "                                  MaxPooling2D(2,2),\n",
        "                                  Conv2D(32,[3,3],activation='relu'),\n",
        "                                  MaxPooling2D(2,2),\n",
        "                                  Conv2D(64,[3,3],activation='relu'),\n",
        "                                  MaxPooling2D(2,2),\n",
        "                                  Flatten(),\n",
        "                                  Dense(512,activation='relu'),\n",
        "                                  Dense(8,activation='softmax'),\n",
        "])\n",
        "model.compile(optimizer=Adam(lr=0.01),loss='categorical_crossentropy',metrics=['acc'])\n",
        "model.summary()"
      ],
      "execution_count": 17,
      "outputs": [
        {
          "output_type": "stream",
          "text": [
            "Model: \"sequential\"\n",
            "_________________________________________________________________\n",
            "Layer (type)                 Output Shape              Param #   \n",
            "=================================================================\n",
            "conv2d (Conv2D)              (None, 98, 98, 16)        448       \n",
            "_________________________________________________________________\n",
            "max_pooling2d (MaxPooling2D) (None, 49, 49, 16)        0         \n",
            "_________________________________________________________________\n",
            "conv2d_1 (Conv2D)            (None, 47, 47, 32)        4640      \n",
            "_________________________________________________________________\n",
            "max_pooling2d_1 (MaxPooling2 (None, 23, 23, 32)        0         \n",
            "_________________________________________________________________\n",
            "conv2d_2 (Conv2D)            (None, 21, 21, 64)        18496     \n",
            "_________________________________________________________________\n",
            "max_pooling2d_2 (MaxPooling2 (None, 10, 10, 64)        0         \n",
            "_________________________________________________________________\n",
            "flatten (Flatten)            (None, 6400)              0         \n",
            "_________________________________________________________________\n",
            "dense (Dense)                (None, 512)               3277312   \n",
            "_________________________________________________________________\n",
            "dense_1 (Dense)              (None, 8)                 4104      \n",
            "=================================================================\n",
            "Total params: 3,305,000\n",
            "Trainable params: 3,305,000\n",
            "Non-trainable params: 0\n",
            "_________________________________________________________________\n"
          ],
          "name": "stdout"
        }
      ]
    },
    {
      "cell_type": "code",
      "metadata": {
        "id": "DU_c67g79er4"
      },
      "source": [
        ""
      ],
      "execution_count": null,
      "outputs": []
    }
  ]
}