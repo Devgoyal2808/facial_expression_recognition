{
  "nbformat": 4,
  "nbformat_minor": 0,
  "metadata": {
    "colab": {
      "name": "facial_expression_recognition.ipynb",
      "provenance": [],
      "collapsed_sections": [],
      "authorship_tag": "ABX9TyPLgUWt2+LMxp3coeenqQhb",
      "include_colab_link": true
    },
    "kernelspec": {
      "name": "python3",
      "display_name": "Python 3"
    },
    "language_info": {
      "name": "python"
    }
  },
  "cells": [
    {
      "cell_type": "markdown",
      "metadata": {
        "id": "view-in-github",
        "colab_type": "text"
      },
      "source": [
        "<a href=\"https://colab.research.google.com/github/Devgoyal2808/facial_expression_recognition/blob/master/facial_expression_recognition.ipynb\" target=\"_parent\"><img src=\"https://colab.research.google.com/assets/colab-badge.svg\" alt=\"Open In Colab\"/></a>"
      ]
    },
    {
      "cell_type": "code",
      "metadata": {
        "colab": {
          "base_uri": "https://localhost:8080/"
        },
        "id": "Wqrwjgqmxugo",
        "outputId": "277206dc-6652-42aa-c6b7-847d42ce3a4e"
      },
      "source": [
        "!git clone https://github.com/Devgoyal2808/facial_expressions"
      ],
      "execution_count": 2,
      "outputs": [
        {
          "output_type": "stream",
          "text": [
            "Cloning into 'facial_expressions'...\n",
            "remote: Enumerating objects: 14214, done.\u001b[K\n",
            "remote: Total 14214 (delta 0), reused 0 (delta 0), pack-reused 14214\u001b[K\n",
            "Receiving objects: 100% (14214/14214), 239.65 MiB | 35.08 MiB/s, done.\n",
            "Resolving deltas: 100% (223/223), done.\n",
            "Checking out files: 100% (13996/13996), done.\n"
          ],
          "name": "stdout"
        }
      ]
    },
    {
      "cell_type": "code",
      "metadata": {
        "id": "443QlvXrxzqP"
      },
      "source": [
        "import csv\n",
        "data={}\n",
        "with open('/content/facial_expressions/data/legend.csv') as f:\n",
        "  reader=csv.reader(f)\n",
        "  next(reader)              # to avoid col headers..\n",
        "  for row in reader:\n",
        "    key=row[2].lower()\n",
        "    if key in data:\n",
        "      data[key].append(row[1])\n",
        "    else:\n",
        "      data[key]=[row[1]]"
      ],
      "execution_count": 5,
      "outputs": []
    },
    {
      "cell_type": "code",
      "metadata": {
        "colab": {
          "base_uri": "https://localhost:8080/"
        },
        "id": "TW-7hCiCyQ_N",
        "outputId": "aacc78c0-0ba3-4dd7-e5d2-d15d60d95212"
      },
      "source": [
        "emotion_list=list(data.keys())\n",
        "emotion_list"
      ],
      "execution_count": 6,
      "outputs": [
        {
          "output_type": "execute_result",
          "data": {
            "text/plain": [
              "['anger',\n",
              " 'surprise',\n",
              " 'disgust',\n",
              " 'fear',\n",
              " 'neutral',\n",
              " 'happiness',\n",
              " 'sadness',\n",
              " 'contempt']"
            ]
          },
          "metadata": {
            "tags": []
          },
          "execution_count": 6
        }
      ]
    },
    {
      "cell_type": "code",
      "metadata": {
        "id": "kheei0-7zi4h"
      },
      "source": [
        "import os\n",
        "\n",
        "os.mkdir('master_data')\n",
        "os.mkdir('master_data/training')\n",
        "os.mkdir('master_data/testing')\n"
      ],
      "execution_count": 11,
      "outputs": []
    },
    {
      "cell_type": "code",
      "metadata": {
        "id": "ONPzNNL_00KS"
      },
      "source": [
        "for emotion in emotion_list:\n",
        "  os.mkdir(os.path.join('master_data/training/',emotion))\n",
        "  os.mkdir(os.path.join('master_data/testing/',emotion))"
      ],
      "execution_count": 12,
      "outputs": []
    },
    {
      "cell_type": "code",
      "metadata": {
        "id": "3KNklxuG1RFi"
      },
      "source": [
        "from shutil import copyfile\n",
        "split_size=0.8\n",
        "\n",
        "for emotion,images in data.items():\n",
        "  train_size=int(split_size*len(images))\n",
        "  train_images=images[:train_size]\n",
        "  test_images=images[train_size:]\n",
        "  for image in train_images:\n",
        "    source=os.path.join('/content/facial_expressions/images',image)\n",
        "    dest=os.path.join('/content/master_data/training',emotion,image)\n",
        "    copyfile(source,dest)\n",
        "  for image in test_images:\n",
        "    source=os.path.join('/content/facial_expressions/images',image)\n",
        "    dest=os.path.join('/content/master_data/testing',emotion,image)\n",
        "    copyfile(source,dest)"
      ],
      "execution_count": 14,
      "outputs": []
    },
    {
      "cell_type": "code",
      "metadata": {
        "id": "skePKoP64CxL"
      },
      "source": [
        "import tensorflow as tf\n",
        "from tensorflow.keras.preprocessing.image import ImageDataGenerator\n",
        "from tensorflow.keras.optimizers import Adam\n",
        "from tensorflow.keras.callbacks import EarlyStopping\n",
        "from tensorflow.keras.layers import Conv2D,MaxPooling2D,Dense,Flatten"
      ],
      "execution_count": 16,
      "outputs": []
    },
    {
      "cell_type": "code",
      "metadata": {
        "colab": {
          "base_uri": "https://localhost:8080/"
        },
        "id": "swJWTcA17z3O",
        "outputId": "215817fc-9465-4520-be6f-61c40aa733b5"
      },
      "source": [
        "model=tf.keras.models.Sequential([\n",
        "                                  Conv2D(16,[3,3],activation='relu',input_shape=(100,100,3)),\n",
        "                                  MaxPooling2D(2,2),\n",
        "                                  Conv2D(32,[3,3],activation='relu'),\n",
        "                                  MaxPooling2D(2,2),\n",
        "                                  Conv2D(64,[3,3],activation='relu'),\n",
        "                                  MaxPooling2D(2,2),\n",
        "                                  Flatten(),\n",
        "                                  Dense(1024,activation='relu'),\n",
        "                                  Dense(8,activation='softmax'),\n",
        "])\n",
        "model.compile(optimizer=Adam(lr=0.01),loss='categorical_crossentropy',metrics=['acc'])\n",
        "model.summary()"
      ],
      "execution_count": 25,
      "outputs": [
        {
          "output_type": "stream",
          "text": [
            "Model: \"sequential_2\"\n",
            "_________________________________________________________________\n",
            "Layer (type)                 Output Shape              Param #   \n",
            "=================================================================\n",
            "conv2d_6 (Conv2D)            (None, 98, 98, 16)        448       \n",
            "_________________________________________________________________\n",
            "max_pooling2d_6 (MaxPooling2 (None, 49, 49, 16)        0         \n",
            "_________________________________________________________________\n",
            "conv2d_7 (Conv2D)            (None, 47, 47, 32)        4640      \n",
            "_________________________________________________________________\n",
            "max_pooling2d_7 (MaxPooling2 (None, 23, 23, 32)        0         \n",
            "_________________________________________________________________\n",
            "conv2d_8 (Conv2D)            (None, 21, 21, 64)        18496     \n",
            "_________________________________________________________________\n",
            "max_pooling2d_8 (MaxPooling2 (None, 10, 10, 64)        0         \n",
            "_________________________________________________________________\n",
            "flatten_2 (Flatten)          (None, 6400)              0         \n",
            "_________________________________________________________________\n",
            "dense_5 (Dense)              (None, 1024)              6554624   \n",
            "_________________________________________________________________\n",
            "dense_6 (Dense)              (None, 8)                 8200      \n",
            "=================================================================\n",
            "Total params: 6,586,408\n",
            "Trainable params: 6,586,408\n",
            "Non-trainable params: 0\n",
            "_________________________________________________________________\n"
          ],
          "name": "stdout"
        }
      ]
    },
    {
      "cell_type": "code",
      "metadata": {
        "colab": {
          "base_uri": "https://localhost:8080/"
        },
        "id": "DU_c67g79er4",
        "outputId": "1c87fcd0-8110-41b0-ec4a-47d9a2da5974"
      },
      "source": [
        "train_dir='/content/master_data/training'\n",
        "test_dir='/content/master_data/testing'\n",
        "\n",
        "train_datagen=ImageDataGenerator(rescale=1.0/255)\n",
        "train_generator=train_datagen.flow_from_directory(\n",
        "    train_dir,\n",
        "    target_size=(100,100),\n",
        "    class_mode='categorical',\n",
        "    batch_size=128\n",
        ")\n",
        "\n",
        "test_datagen=ImageDataGenerator(rescale=1.0/255)\n",
        "test_generator=test_datagen.flow_from_directory(\n",
        "    test_dir,\n",
        "    target_size=(100,100),\n",
        "    class_mode='categorical',\n",
        "    batch_size=128\n",
        ")\n"
      ],
      "execution_count": 26,
      "outputs": [
        {
          "output_type": "stream",
          "text": [
            "Found 10941 images belonging to 8 classes.\n",
            "Found 2742 images belonging to 8 classes.\n"
          ],
          "name": "stdout"
        }
      ]
    },
    {
      "cell_type": "code",
      "metadata": {
        "id": "Vuyar4YZ_0Lj"
      },
      "source": [
        "es=EarlyStopping(monitor='val_acc',patience=2,min_delta=0.01)         # if model is not improving atleast 1 per after 2 epochs stop it.."
      ],
      "execution_count": 27,
      "outputs": []
    },
    {
      "cell_type": "code",
      "metadata": {
        "colab": {
          "base_uri": "https://localhost:8080/"
        },
        "id": "qawvHberAaRA",
        "outputId": "86f4325b-b181-499c-da33-d71eff1b0379"
      },
      "source": [
        "model.fit_generator(train_generator,\n",
        "                    epochs=10,\n",
        "                    verbose=1,\n",
        "                    \n",
        "                    validation_data=test_generator,\n",
        "                    callbacks=[es])"
      ],
      "execution_count": 28,
      "outputs": [
        {
          "output_type": "stream",
          "text": [
            "/usr/local/lib/python3.7/dist-packages/tensorflow/python/keras/engine/training.py:1844: UserWarning: `Model.fit_generator` is deprecated and will be removed in a future version. Please use `Model.fit`, which supports generators.\n",
            "  warnings.warn('`Model.fit_generator` is deprecated and '\n"
          ],
          "name": "stderr"
        },
        {
          "output_type": "stream",
          "text": [
            "Epoch 1/10\n",
            "86/86 [==============================] - 105s 1s/step - loss: 3.3551 - acc: 0.4772 - val_loss: 1.0198 - val_acc: 0.4982\n",
            "Epoch 2/10\n",
            "86/86 [==============================] - 104s 1s/step - loss: 0.9330 - acc: 0.6195 - val_loss: 0.8925 - val_acc: 0.6805\n",
            "Epoch 3/10\n",
            "86/86 [==============================] - 105s 1s/step - loss: 0.7440 - acc: 0.7554 - val_loss: 0.9720 - val_acc: 0.6513\n",
            "Epoch 4/10\n",
            "86/86 [==============================] - 106s 1s/step - loss: 0.7016 - acc: 0.7620 - val_loss: 1.1860 - val_acc: 0.6273\n"
          ],
          "name": "stdout"
        },
        {
          "output_type": "execute_result",
          "data": {
            "text/plain": [
              "<tensorflow.python.keras.callbacks.History at 0x7f5333c6f950>"
            ]
          },
          "metadata": {
            "tags": []
          },
          "execution_count": 28
        }
      ]
    },
    {
      "cell_type": "code",
      "metadata": {
        "id": "c9oohqPqA6Em"
      },
      "source": [
        "# nearly 76% accuracy achieved..."
      ],
      "execution_count": 29,
      "outputs": []
    },
    {
      "cell_type": "code",
      "metadata": {
        "id": "KWtekTJ3HLdB"
      },
      "source": [
        ""
      ],
      "execution_count": null,
      "outputs": []
    }
  ]
}